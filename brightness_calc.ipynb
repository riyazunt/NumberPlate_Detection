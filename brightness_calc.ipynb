{
 "cells": [
  {
   "cell_type": "code",
   "execution_count": 7,
   "id": "390772d0",
   "metadata": {},
   "outputs": [],
   "source": [
    "#Convert image to greyscale, return average pixel brightness.\n",
    "from PIL import Image, ImageStat\n",
    "import math\n",
    "\n",
    "def brightness_mthd1( im_file ):\n",
    "    im = Image.open(im_file).convert('L')\n",
    "    stat = ImageStat.Stat(im)\n",
    "    return stat.mean[0]\n",
    "\n",
    "#Convert image to greyscale, return RMS pixel brightness.\n",
    "\n",
    "def brightness_mthd2( im_file ):\n",
    "    im = Image.open(im_file).convert('L')\n",
    "    stat = ImageStat.Stat(im)\n",
    "    return stat.rms[0]\n",
    "\n",
    "#Average pixels, then transform to \"perceived brightness\".\n",
    "\n",
    "def brightness_mthd3( im_file ):\n",
    "    im = Image.open(im_file)\n",
    "    stat = ImageStat.Stat(im)\n",
    "    r,g,b = stat.mean\n",
    "    return math.sqrt(0.241*(r**2) + 0.691*(g**2) + 0.068*(b**2))\n",
    "\n",
    "#RMS of pixels, then transform to \"perceived brightness\".\n",
    "\n",
    "def brightness_mthd4( im_file ):\n",
    "    im = Image.open(im_file)\n",
    "    stat = ImageStat.Stat(im)\n",
    "    r,g,b = stat.rms\n",
    "    return math.sqrt(0.241*(r**2) + 0.691*(g**2) + 0.068*(b**2))\n",
    "\n",
    "#Calculate \"perceived brightness\" of pixels, then return average.\n",
    "\n",
    "def brightness_mthd5( im_file ):\n",
    "    im = Image.open(im_file)\n",
    "    stat = ImageStat.Stat(im)\n",
    "    gs = (math.sqrt(0.241*(r**2) + 0.691*(g**2) + 0.068*(b**2)) \n",
    "         for r,g,b in im.getdata())\n",
    "    return sum(gs)/stat.count[0]"
   ]
  },
  {
   "cell_type": "code",
   "execution_count": 8,
   "id": "cba7d67f",
   "metadata": {},
   "outputs": [
    {
     "data": {
      "text/plain": [
       "62.306442625603324"
      ]
     },
     "execution_count": 8,
     "metadata": {},
     "output_type": "execute_result"
    }
   ],
   "source": [
    "brightness_mthd3('../skew_test/test1.jpg')"
   ]
  },
  {
   "cell_type": "code",
   "execution_count": 13,
   "id": "daf04536",
   "metadata": {},
   "outputs": [
    {
     "data": {
      "text/plain": [
       "133.42663416960758"
      ]
     },
     "execution_count": 13,
     "metadata": {},
     "output_type": "execute_result"
    }
   ],
   "source": [
    "brightness_mthd3('../skew_test/test8.jpg')"
   ]
  },
  {
   "cell_type": "code",
   "execution_count": 15,
   "id": "fe3215c9",
   "metadata": {},
   "outputs": [
    {
     "name": "stderr",
     "output_type": "stream",
     "text": [
      "/tmp/ipykernel_502953/2241005434.py:7: DeprecationWarning: Please use `rotate` from the `scipy.ndimage` namespace, the `scipy.ndimage.interpolation` namespace is deprecated.\n",
      "  data = inter.rotate(arr, angle, reshape=False, order=0)\n"
     ]
    },
    {
     "name": "stdout",
     "output_type": "stream",
     "text": [
      "Skew angle: -1\n"
     ]
    }
   ],
   "source": [
    "import cv2\n",
    "import numpy as np\n",
    "from scipy.ndimage import interpolation as inter\n",
    "\n",
    "def correct_skew(image, delta=1, limit=5):\n",
    "    def determine_score(arr, angle):\n",
    "        data = inter.rotate(arr, angle, reshape=False, order=0)\n",
    "        histogram = np.sum(data, axis=1, dtype=float)\n",
    "        score = np.sum((histogram[1:] - histogram[:-1]) ** 2, dtype=float)\n",
    "        return histogram, score\n",
    "\n",
    "    gray = cv2.cvtColor(image, cv2.COLOR_BGR2GRAY)\n",
    "    thresh = cv2.threshold(gray, 0, 255, cv2.THRESH_BINARY_INV + cv2.THRESH_OTSU)[1] \n",
    "\n",
    "    scores = []\n",
    "    angles = np.arange(-limit, limit + delta, delta)\n",
    "    for angle in angles:\n",
    "        histogram, score = determine_score(thresh, angle)\n",
    "        scores.append(score)\n",
    "\n",
    "    best_angle = angles[scores.index(max(scores))]\n",
    "\n",
    "    (h, w) = image.shape[:2]\n",
    "    center = (w // 2, h // 2)\n",
    "    M = cv2.getRotationMatrix2D(center, best_angle, 1.0)\n",
    "    corrected = cv2.warpAffine(image, M, (w, h), flags=cv2.INTER_CUBIC, \\\n",
    "            borderMode=cv2.BORDER_REPLICATE)\n",
    "\n",
    "    return best_angle, corrected\n",
    "\n",
    "if __name__ == '__main__':\n",
    "    image = cv2.imread('../skew_test/test2.jpg')\n",
    "    angle, corrected = correct_skew(image)\n",
    "    print('Skew angle:', angle)\n",
    "    cv2.imshow('corrected', corrected)\n",
    "    cv2.waitKey(0)\n",
    "    cv2.destroyAllWindows()\n",
    "    "
   ]
  },
  {
   "cell_type": "code",
   "execution_count": 14,
   "id": "b43b0b52",
   "metadata": {},
   "outputs": [],
   "source": [
    "def getSkewAngle(cvImage) -> float:\n",
    "    # Prep image, copy, convert to gray scale, blur, and threshold\n",
    "    newImage = cvImage.copy()\n",
    "    gray = cv2.cvtColor(newImage, cv2.COLOR_BGR2GRAY)\n",
    "    blur = cv2.GaussianBlur(gray, (9, 9), 0)\n",
    "    thresh = cv2.threshold(blur, 0, 255, cv2.THRESH_BINARY_INV + cv2.THRESH_OTSU)[1]\n",
    "\n",
    "    # Apply dilate to merge text into meaningful lines/paragraphs.\n",
    "    # Use larger kernel on X axis to merge characters into single line, cancelling out any spaces.\n",
    "    # But use smaller kernel on Y axis to separate between different blocks of text\n",
    "    kernel = cv2.getStructuringElement(cv2.MORPH_RECT, (30, 5))\n",
    "    dilate = cv2.dilate(thresh, kernel, iterations=5)\n",
    "\n",
    "    # Find all contours\n",
    "    contours, hierarchy = cv2.findContours(dilate, cv2.RETR_LIST, cv2.CHAIN_APPROX_SIMPLE)\n",
    "    contours = sorted(contours, key = cv2.contourArea, reverse = True)\n",
    "\n",
    "    # Find largest contour and surround in min area box\n",
    "    largestContour = contours[0]\n",
    "    minAreaRect = cv2.minAreaRect(largestContour)\n",
    "\n",
    "    # Determine the angle. Convert it to the value that was originally used to obtain skewed image\n",
    "    angle = minAreaRect[-1]\n",
    "    if angle < -45:\n",
    "        angle = 90 + angle\n",
    "    return -1.0 * angle"
   ]
  },
  {
   "cell_type": "code",
   "execution_count": 17,
   "id": "5214a329",
   "metadata": {},
   "outputs": [],
   "source": [
    "# Rotate the image around its center\n",
    "def rotateImage(cvImage, angle: float):\n",
    "    newImage = cvImage.copy()\n",
    "    (h, w) = newImage.shape[:2]\n",
    "    center = (w // 2, h // 2)\n",
    "    M = cv2.getRotationMatrix2D(center, angle, 1.0)\n",
    "    newImage = cv2.warpAffine(newImage, M, (w, h), flags=cv2.INTER_CUBIC, borderMode=cv2.BORDER_REPLICATE)\n",
    "    return newImage\n",
    "\n",
    "# Deskew image\n",
    "def deskew(cvImage):\n",
    "    angle = getSkewAngle(cvImage)\n",
    "    return rotateImage(cvImage, -1.0 * angle)"
   ]
  },
  {
   "cell_type": "code",
   "execution_count": 21,
   "id": "fe0d8dfd",
   "metadata": {},
   "outputs": [],
   "source": [
    "image = cv2.imread('../skew_test/test1.jpg')\n",
    "img = deskew(image)"
   ]
  },
  {
   "cell_type": "code",
   "execution_count": 22,
   "id": "14dafdb8",
   "metadata": {},
   "outputs": [],
   "source": [
    "cv2.imshow('corrected', img)\n",
    "cv2.waitKey(0)\n",
    "cv2.destroyAllWindows()"
   ]
  },
  {
   "cell_type": "code",
   "execution_count": null,
   "id": "007e91e1",
   "metadata": {},
   "outputs": [],
   "source": []
  }
 ],
 "metadata": {
  "kernelspec": {
   "display_name": "Python 3 (ipykernel)",
   "language": "python",
   "name": "python3"
  },
  "language_info": {
   "codemirror_mode": {
    "name": "ipython",
    "version": 3
   },
   "file_extension": ".py",
   "mimetype": "text/x-python",
   "name": "python",
   "nbconvert_exporter": "python",
   "pygments_lexer": "ipython3",
   "version": "3.10.6"
  }
 },
 "nbformat": 4,
 "nbformat_minor": 5
}
